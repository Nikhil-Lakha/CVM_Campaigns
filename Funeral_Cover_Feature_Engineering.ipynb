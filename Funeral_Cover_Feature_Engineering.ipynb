{
  "cells": [
    {
      "cell_type": "code",
      "execution_count": 5,
      "id": "b46c8f12",
      "metadata": {
        "id": "b46c8f12"
      },
      "outputs": [],
      "source": [
        "import os\n",
        "from ftplib import FTP\n",
        "from io import BytesIO\n",
        "from datetime import datetime\n",
        "import pandas as pd\n",
        "import io"
      ]
    },
    {
      "cell_type": "code",
      "execution_count": 6,
      "id": "1cc47e73",
      "metadata": {
        "colab": {
          "base_uri": "https://localhost:8080/",
          "height": 423
        },
        "id": "1cc47e73",
        "outputId": "1e37acc9-11fb-4d23-b15f-e184930b8c35"
      },
      "outputs": [
        {
          "data": {
            "text/html": [
              "<div>\n",
              "<style scoped>\n",
              "    .dataframe tbody tr th:only-of-type {\n",
              "        vertical-align: middle;\n",
              "    }\n",
              "\n",
              "    .dataframe tbody tr th {\n",
              "        vertical-align: top;\n",
              "    }\n",
              "\n",
              "    .dataframe thead th {\n",
              "        text-align: right;\n",
              "    }\n",
              "</style>\n",
              "<table border=\"1\" class=\"dataframe\">\n",
              "  <thead>\n",
              "    <tr style=\"text-align: right;\">\n",
              "      <th></th>\n",
              "      <th>Date</th>\n",
              "      <th>user_ids</th>\n",
              "      <th>Unique Visitors</th>\n",
              "    </tr>\n",
              "  </thead>\n",
              "  <tbody>\n",
              "    <tr>\n",
              "      <th>0</th>\n",
              "      <td>2024-10-14</td>\n",
              "      <td>216610000000445872505</td>\n",
              "      <td>1</td>\n",
              "    </tr>\n",
              "    <tr>\n",
              "      <th>1</th>\n",
              "      <td>2024-10-14</td>\n",
              "      <td>216610000000494784695</td>\n",
              "      <td>1</td>\n",
              "    </tr>\n",
              "    <tr>\n",
              "      <th>2</th>\n",
              "      <td>2024-10-14</td>\n",
              "      <td>216610000000494787726</td>\n",
              "      <td>1</td>\n",
              "    </tr>\n",
              "    <tr>\n",
              "      <th>3</th>\n",
              "      <td>2024-10-14</td>\n",
              "      <td>216610000000497736846</td>\n",
              "      <td>1</td>\n",
              "    </tr>\n",
              "    <tr>\n",
              "      <th>4</th>\n",
              "      <td>2024-10-14</td>\n",
              "      <td>216610000000500833764</td>\n",
              "      <td>1</td>\n",
              "    </tr>\n",
              "    <tr>\n",
              "      <th>...</th>\n",
              "      <td>...</td>\n",
              "      <td>...</td>\n",
              "      <td>...</td>\n",
              "    </tr>\n",
              "    <tr>\n",
              "      <th>30258</th>\n",
              "      <td>2025-04-21</td>\n",
              "      <td>216610000019511176719</td>\n",
              "      <td>1</td>\n",
              "    </tr>\n",
              "    <tr>\n",
              "      <th>30259</th>\n",
              "      <td>2025-04-21</td>\n",
              "      <td>216610000019513408953</td>\n",
              "      <td>1</td>\n",
              "    </tr>\n",
              "    <tr>\n",
              "      <th>30260</th>\n",
              "      <td>2025-04-21</td>\n",
              "      <td>216610000019514754914</td>\n",
              "      <td>1</td>\n",
              "    </tr>\n",
              "    <tr>\n",
              "      <th>30261</th>\n",
              "      <td>2025-04-21</td>\n",
              "      <td>216610000019516202570</td>\n",
              "      <td>1</td>\n",
              "    </tr>\n",
              "    <tr>\n",
              "      <th>30262</th>\n",
              "      <td>2025-04-21</td>\n",
              "      <td>216610000019517753910</td>\n",
              "      <td>1</td>\n",
              "    </tr>\n",
              "  </tbody>\n",
              "</table>\n",
              "<p>30263 rows × 3 columns</p>\n",
              "</div>"
            ],
            "text/plain": [
              "            Date               user_ids  Unique Visitors\n",
              "0     2024-10-14  216610000000445872505                1\n",
              "1     2024-10-14  216610000000494784695                1\n",
              "2     2024-10-14  216610000000494787726                1\n",
              "3     2024-10-14  216610000000497736846                1\n",
              "4     2024-10-14  216610000000500833764                1\n",
              "...          ...                    ...              ...\n",
              "30258 2025-04-21  216610000019511176719                1\n",
              "30259 2025-04-21  216610000019513408953                1\n",
              "30260 2025-04-21  216610000019514754914                1\n",
              "30261 2025-04-21  216610000019516202570                1\n",
              "30262 2025-04-21  216610000019517753910                1\n",
              "\n",
              "[30263 rows x 3 columns]"
            ]
          },
          "execution_count": 6,
          "metadata": {},
          "output_type": "execute_result"
        }
      ],
      "source": [
        "dataset = pd.read_excel('Funeral_Cover_Quotes Master File.xlsx')\n",
        "dataset"
      ]
    },
    {
      "cell_type": "code",
      "execution_count": 7,
      "id": "9b012b4b",
      "metadata": {
        "colab": {
          "base_uri": "https://localhost:8080/",
          "height": 441
        },
        "id": "9b012b4b",
        "outputId": "d02f0103-f2b3-4058-b25d-0f3a3bef3813"
      },
      "outputs": [
        {
          "ename": "PermissionError",
          "evalue": "[WinError 10013] An attempt was made to access a socket in a way forbidden by its access permissions",
          "output_type": "error",
          "traceback": [
            "\u001b[31m---------------------------------------------------------------------------\u001b[39m",
            "\u001b[31mPermissionError\u001b[39m                           Traceback (most recent call last)",
            "\u001b[36mCell\u001b[39m\u001b[36m \u001b[39m\u001b[32mIn[7]\u001b[39m\u001b[32m, line 1\u001b[39m\n\u001b[32m----> \u001b[39m\u001b[32m1\u001b[39m ftp = \u001b[43mFTP\u001b[49m\u001b[43m(\u001b[49m\u001b[33;43m'\u001b[39;49m\u001b[33;43mftp3.omniture.com\u001b[39;49m\u001b[33;43m'\u001b[39;49m\u001b[43m)\u001b[49m  \u001b[38;5;66;03m# Replace with your FTP host\u001b[39;00m\n\u001b[32m      3\u001b[39m ftp.login(user=\u001b[33m'\u001b[39m\u001b[33mvodacomdlsvodacomfinanc_01071598\u001b[39m\u001b[33m'\u001b[39m, passwd=\u001b[33m'\u001b[39m\u001b[33mCCVUGkNi\u001b[39m\u001b[33m'\u001b[39m)  \u001b[38;5;66;03m# Replace with your credentials\u001b[39;00m\n\u001b[32m      5\u001b[39m \u001b[38;5;66;03m# List files and get modification times\u001b[39;00m\n",
            "\u001b[36mFile \u001b[39m\u001b[32mc:\\Program Files\\Python313\\Lib\\ftplib.py:121\u001b[39m, in \u001b[36mFTP.__init__\u001b[39m\u001b[34m(self, host, user, passwd, acct, timeout, source_address, encoding)\u001b[39m\n\u001b[32m    119\u001b[39m \u001b[38;5;28mself\u001b[39m.timeout = timeout\n\u001b[32m    120\u001b[39m \u001b[38;5;28;01mif\u001b[39;00m host:\n\u001b[32m--> \u001b[39m\u001b[32m121\u001b[39m     \u001b[38;5;28;43mself\u001b[39;49m\u001b[43m.\u001b[49m\u001b[43mconnect\u001b[49m\u001b[43m(\u001b[49m\u001b[43mhost\u001b[49m\u001b[43m)\u001b[49m\n\u001b[32m    122\u001b[39m     \u001b[38;5;28;01mif\u001b[39;00m user:\n\u001b[32m    123\u001b[39m         \u001b[38;5;28mself\u001b[39m.login(user, passwd, acct)\n",
            "\u001b[36mFile \u001b[39m\u001b[32mc:\\Program Files\\Python313\\Lib\\ftplib.py:158\u001b[39m, in \u001b[36mFTP.connect\u001b[39m\u001b[34m(self, host, port, timeout, source_address)\u001b[39m\n\u001b[32m    156\u001b[39m     \u001b[38;5;28mself\u001b[39m.source_address = source_address\n\u001b[32m    157\u001b[39m sys.audit(\u001b[33m\"\u001b[39m\u001b[33mftplib.connect\u001b[39m\u001b[33m\"\u001b[39m, \u001b[38;5;28mself\u001b[39m, \u001b[38;5;28mself\u001b[39m.host, \u001b[38;5;28mself\u001b[39m.port)\n\u001b[32m--> \u001b[39m\u001b[32m158\u001b[39m \u001b[38;5;28mself\u001b[39m.sock = \u001b[43msocket\u001b[49m\u001b[43m.\u001b[49m\u001b[43mcreate_connection\u001b[49m\u001b[43m(\u001b[49m\u001b[43m(\u001b[49m\u001b[38;5;28;43mself\u001b[39;49m\u001b[43m.\u001b[49m\u001b[43mhost\u001b[49m\u001b[43m,\u001b[49m\u001b[43m \u001b[49m\u001b[38;5;28;43mself\u001b[39;49m\u001b[43m.\u001b[49m\u001b[43mport\u001b[49m\u001b[43m)\u001b[49m\u001b[43m,\u001b[49m\u001b[43m \u001b[49m\u001b[38;5;28;43mself\u001b[39;49m\u001b[43m.\u001b[49m\u001b[43mtimeout\u001b[49m\u001b[43m,\u001b[49m\n\u001b[32m    159\u001b[39m \u001b[43m                                     \u001b[49m\u001b[43msource_address\u001b[49m\u001b[43m=\u001b[49m\u001b[38;5;28;43mself\u001b[39;49m\u001b[43m.\u001b[49m\u001b[43msource_address\u001b[49m\u001b[43m)\u001b[49m\n\u001b[32m    160\u001b[39m \u001b[38;5;28mself\u001b[39m.af = \u001b[38;5;28mself\u001b[39m.sock.family\n\u001b[32m    161\u001b[39m \u001b[38;5;28mself\u001b[39m.file = \u001b[38;5;28mself\u001b[39m.sock.makefile(\u001b[33m'\u001b[39m\u001b[33mr\u001b[39m\u001b[33m'\u001b[39m, encoding=\u001b[38;5;28mself\u001b[39m.encoding)\n",
            "\u001b[36mFile \u001b[39m\u001b[32mc:\\Program Files\\Python313\\Lib\\socket.py:864\u001b[39m, in \u001b[36mcreate_connection\u001b[39m\u001b[34m(address, timeout, source_address, all_errors)\u001b[39m\n\u001b[32m    862\u001b[39m \u001b[38;5;28;01mtry\u001b[39;00m:\n\u001b[32m    863\u001b[39m     \u001b[38;5;28;01mif\u001b[39;00m \u001b[38;5;129;01mnot\u001b[39;00m all_errors:\n\u001b[32m--> \u001b[39m\u001b[32m864\u001b[39m         \u001b[38;5;28;01mraise\u001b[39;00m exceptions[\u001b[32m0\u001b[39m]\n\u001b[32m    865\u001b[39m     \u001b[38;5;28;01mraise\u001b[39;00m ExceptionGroup(\u001b[33m\"\u001b[39m\u001b[33mcreate_connection failed\u001b[39m\u001b[33m\"\u001b[39m, exceptions)\n\u001b[32m    866\u001b[39m \u001b[38;5;28;01mfinally\u001b[39;00m:\n\u001b[32m    867\u001b[39m     \u001b[38;5;66;03m# Break explicitly a reference cycle\u001b[39;00m\n",
            "\u001b[36mFile \u001b[39m\u001b[32mc:\\Program Files\\Python313\\Lib\\socket.py:849\u001b[39m, in \u001b[36mcreate_connection\u001b[39m\u001b[34m(address, timeout, source_address, all_errors)\u001b[39m\n\u001b[32m    847\u001b[39m \u001b[38;5;28;01mif\u001b[39;00m source_address:\n\u001b[32m    848\u001b[39m     sock.bind(source_address)\n\u001b[32m--> \u001b[39m\u001b[32m849\u001b[39m \u001b[43msock\u001b[49m\u001b[43m.\u001b[49m\u001b[43mconnect\u001b[49m\u001b[43m(\u001b[49m\u001b[43msa\u001b[49m\u001b[43m)\u001b[49m\n\u001b[32m    850\u001b[39m \u001b[38;5;66;03m# Break explicitly a reference cycle\u001b[39;00m\n\u001b[32m    851\u001b[39m exceptions.clear()\n",
            "\u001b[31mPermissionError\u001b[39m: [WinError 10013] An attempt was made to access a socket in a way forbidden by its access permissions"
          ]
        }
      ],
      "source": [
        "ftp = FTP('ftp3.omniture.com')  # Replace with your FTP host\n",
        "\n",
        "ftp.login(user='vodacomdlsvodacomfinanc_01071598', passwd='CCVUGkNi')  # Replace with your credentials\n",
        "\n",
        "# List files and get modification times\n",
        "files = ftp.nlst()\n",
        "\n",
        "# Get modified times\n",
        "file_times = []\n",
        "for file in files:\n",
        "    try:\n",
        "        # 'MDTM' retrieves the modified time of the file (format: YYYYMMDDHHMMSS)\n",
        "        modified_time = ftp.sendcmd(f'MDTM {file}')[4:].strip()\n",
        "        file_times.append((file, modified_time))\n",
        "    except Exception as e:\n",
        "        print(f\"Could not retrieve time for {file}: {e}\")\n",
        "\n",
        "# Sort by modified time (latest first)\n",
        "file_times.sort(key=lambda x: x[1], reverse=True)\n",
        "\n",
        "# Get the most recent file\n",
        "latest_file = file_times[0][0]\n",
        "print(f\"Most recent file: {latest_file}\")\n",
        "\n",
        "# Download the latest file into memory\n",
        "bio = BytesIO()\n",
        "ftp.retrbinary(f'RETR {latest_file}', bio.write)\n",
        "bio.seek(0)  # Reset buffer\n",
        "\n",
        "# Assuming the file is a CSV\n",
        "df = pd.read_csv(bio)\n",
        "\n",
        "# Close FTP connection\n",
        "ftp.quit()\n",
        "\n",
        "# Show DataFrame\n",
        "df.columns.values[1] = 'user_ids'\n",
        "df"
      ]
    },
    {
      "cell_type": "code",
      "execution_count": null,
      "id": "aCVzFIGDbbt2",
      "metadata": {
        "colab": {
          "base_uri": "https://localhost:8080/"
        },
        "id": "aCVzFIGDbbt2",
        "outputId": "82952237-e687-41d3-bc58-97af39cb160b"
      },
      "outputs": [
        {
          "name": "stdout",
          "output_type": "stream",
          "text": [
            "Number of new user_ids: 316\n"
          ]
        }
      ],
      "source": [
        "# Step 1: Find new user_ids (not in dataset)\n",
        "new_rows = df[~df['user_ids'].isin(dataset['user_ids'])]\n",
        "\n",
        "# Step 2: Count how many new user_ids\n",
        "count_new = new_rows.shape[0]\n",
        "print(f\"Number of new user_ids: {count_new}\")\n",
        "\n",
        "# Step 3: Append new rows to dataset\n",
        "dataset = pd.concat([dataset, new_rows], ignore_index=True)\n",
        "\n",
        "# Step 4: Save new user_ids to a CSV file named with the week number\n",
        "week_number = datetime.now().isocalendar()[1]  # Get current ISO week number\n",
        "filename = f\"user_ids_week_{week_number}.csv\"\n",
        "new_rows.to_csv(filename, index=False)\n",
        "\n",
        "print(f\"New user_ids saved to {filename}\")"
      ]
    }
  ],
  "metadata": {
    "colab": {
      "provenance": []
    },
    "kernelspec": {
      "display_name": "Python 3",
      "language": "python",
      "name": "python3"
    },
    "language_info": {
      "codemirror_mode": {
        "name": "ipython",
        "version": 3
      },
      "file_extension": ".py",
      "mimetype": "text/x-python",
      "name": "python",
      "nbconvert_exporter": "python",
      "pygments_lexer": "ipython3",
      "version": "3.13.2"
    }
  },
  "nbformat": 4,
  "nbformat_minor": 5
}
